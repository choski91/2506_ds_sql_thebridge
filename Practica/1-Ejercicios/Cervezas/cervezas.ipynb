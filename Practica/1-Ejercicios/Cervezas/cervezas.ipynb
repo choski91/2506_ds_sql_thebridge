{
 "cells": [
  {
   "cell_type": "code",
   "execution_count": 82,
   "id": "21fa3423-535c-48ff-ad17-0fe561779f7d",
   "metadata": {},
   "outputs": [],
   "source": [
    "import pandas as pd\n",
    "import sqlite3"
   ]
  },
  {
   "cell_type": "code",
   "execution_count": 83,
   "id": "9fe60d26-ac2e-4c7c-88af-7e5625c8a70a",
   "metadata": {},
   "outputs": [],
   "source": [
    "# conectamos con la base de datos my_database.db\n",
    "connection = sqlite3.connect(\"my_database.db\")\n",
    "\n",
    "# obtenemos un cursor que utilizamos para las queries\n",
    "crsr = connection.cursor()\n"
   ]
  },
  {
   "cell_type": "code",
   "execution_count": 84,
   "id": "48a7224a-6f92-41ac-9c71-4e579e7d68bf",
   "metadata": {},
   "outputs": [],
   "source": [
    "# Con esta función leemos los datos y lo pasamos a un DataFrame de Pandas\n",
    "def sql_query(query):\n",
    "\n",
    "    # Ejecuta la query\n",
    "    crsr.execute(query)\n",
    "\n",
    "    # Almacena los datos de la query \n",
    "    ans = crsr.fetchall()\n",
    "\n",
    "    # Obtenemos los nombres de las columnas de la tabla\n",
    "    names = [description[0] for description in crsr.description]\n",
    "\n",
    "    return pd.DataFrame(ans,columns=names)"
   ]
  },
  {
   "cell_type": "code",
   "execution_count": 85,
   "id": "6e3739e2",
   "metadata": {},
   "outputs": [
    {
     "name": "stdout",
     "output_type": "stream",
     "text": [
      "cervezas\n",
      "bares\n",
      "empleados\n"
     ]
    }
   ],
   "source": [
    "res = crsr.execute(\"SELECT name FROM sqlite_master WHERE type='table'\")\n",
    "for name in res:\n",
    "    print(name[0])"
   ]
  },
  {
   "cell_type": "code",
   "execution_count": 62,
   "id": "b7645636-44ef-4929-b0b2-62b8a24978a8",
   "metadata": {},
   "outputs": [
    {
     "data": {
      "text/plain": [
       "<sqlite3.Cursor at 0x233e7d0c1c0>"
      ]
     },
     "execution_count": 62,
     "metadata": {},
     "output_type": "execute_result"
    }
   ],
   "source": [
    "query = '''\n",
    "CREATE TABLE IF NOT EXISTS cervezas (\n",
    "    CodC VARCHAR(2),\n",
    "    Envase VARCHAR(32),\n",
    "    Capacidad FLOAT(2),\n",
    "    Stock INT(5),\n",
    "    PRIMARY KEY (CodC)\n",
    ")\n",
    "'''\n",
    "\n",
    "crsr.execute(query)"
   ]
  },
  {
   "cell_type": "code",
   "execution_count": 63,
   "id": "55ac1ba2-c8ca-4f7d-af0e-6e1b51c72295",
   "metadata": {},
   "outputs": [
    {
     "data": {
      "text/plain": [
       "<sqlite3.Cursor at 0x233e7d0c1c0>"
      ]
     },
     "execution_count": 63,
     "metadata": {},
     "output_type": "execute_result"
    }
   ],
   "source": [
    "query = '''\n",
    "CREATE TABLE IF NOT EXISTS bares (\n",
    "    CodB VARCHAR(2),\n",
    "    Nombre VARCHAR(32),\n",
    "    Cif VARCHAR(32),\n",
    "    Localidad VARCHAR(32),\n",
    "    PRIMARY KEY (CodB)\n",
    ")\n",
    "'''\n",
    "\n",
    "crsr.execute(query)"
   ]
  },
  {
   "cell_type": "code",
   "execution_count": 65,
   "id": "be27c9dc",
   "metadata": {},
   "outputs": [
    {
     "data": {
      "text/plain": [
       "<sqlite3.Cursor at 0x233e7d0c1c0>"
      ]
     },
     "execution_count": 65,
     "metadata": {},
     "output_type": "execute_result"
    }
   ],
   "source": [
    "query = '''\n",
    "CREATE TABLE IF NOT EXISTS empleados (\n",
    "    CodE VARCHAR(2),\n",
    "    Nombre VARCHAR(32),\n",
    "    Sueldo INT(5),\n",
    "    PRIMARY KEY (CodE)\n",
    ")\n",
    "'''\n",
    "\n",
    "crsr.execute(query)"
   ]
  },
  {
   "cell_type": "code",
   "execution_count": 87,
   "id": "536c9cbe",
   "metadata": {},
   "outputs": [
    {
     "ename": "ProgrammingError",
     "evalue": "Cannot operate on a closed database.",
     "output_type": "error",
     "traceback": [
      "\u001b[31m---------------------------------------------------------------------------\u001b[39m",
      "\u001b[31mProgrammingError\u001b[39m                          Traceback (most recent call last)",
      "\u001b[36mCell\u001b[39m\u001b[36m \u001b[39m\u001b[32mIn[87]\u001b[39m\u001b[32m, line 14\u001b[39m\n\u001b[32m      1\u001b[39m query = \u001b[33m'''\u001b[39m\n\u001b[32m      2\u001b[39m \u001b[33mCREATE TABLE IF NOT EXISTS reparto (\u001b[39m\n\u001b[32m      3\u001b[39m \u001b[33m\tCodE VARCHAR(2) NOT NULL,\u001b[39m\n\u001b[32m   (...)\u001b[39m\u001b[32m     12\u001b[39m \u001b[33m);\u001b[39m\n\u001b[32m     13\u001b[39m \u001b[33m'''\u001b[39m\n\u001b[32m---> \u001b[39m\u001b[32m14\u001b[39m \u001b[43mcrsr\u001b[49m\u001b[43m.\u001b[49m\u001b[43mexecute\u001b[49m\u001b[43m(\u001b[49m\u001b[43mquery\u001b[49m\u001b[43m)\u001b[49m\n",
      "\u001b[31mProgrammingError\u001b[39m: Cannot operate on a closed database."
     ]
    }
   ],
   "source": [
    "query = '''\n",
    "CREATE TABLE IF NOT EXISTS reparto (\n",
    "\tCodE VARCHAR(2) NOT NULL,\n",
    "\tCodB VARCHAR(3) NOT NULL,\n",
    "\tCodC VARCHAR(2) NOT NULL,\n",
    "\tFecha DATE NOT NULL,\n",
    "\tCantidad SMALLINT,\n",
    "\tPRIMARY KEY (CodE,CodB,CodC,fecha),\n",
    "\tFOREIGN KEY (CodE) REFERENCES empleados(CodE),\n",
    "    FOREIGN KEY (CodB) REFERENCES bares(CodB),\n",
    "    FOREIGN KEY (CodC) REFERENCES cervezas(CodC)\n",
    ");\n",
    "'''\n",
    "crsr.execute(query)"
   ]
  },
  {
   "cell_type": "code",
   "execution_count": 37,
   "id": "14ec7164",
   "metadata": {},
   "outputs": [
    {
     "data": {
      "text/plain": [
       "<sqlite3.Cursor at 0x233e7a45740>"
      ]
     },
     "execution_count": 37,
     "metadata": {},
     "output_type": "execute_result"
    }
   ],
   "source": [
    "query = '''\n",
    "DROP TABLE IF EXISTS reparto;\n",
    "'''\n",
    "crsr.execute(query)"
   ]
  },
  {
   "cell_type": "code",
   "execution_count": 40,
   "id": "aed4f5d5-8a78-497f-b95d-1ce281ef74c7",
   "metadata": {},
   "outputs": [
    {
     "data": {
      "text/plain": [
       "<sqlite3.Cursor at 0x233e7a45740>"
      ]
     },
     "execution_count": 40,
     "metadata": {},
     "output_type": "execute_result"
    }
   ],
   "source": [
    "query = '''\n",
    "INSERT OR REPLACE INTO empleados VALUES ('1','Carlos Lopez',120000),\n",
    "('2', 'Rosa Perez', 110000),\n",
    "('3', 'Luisa Garcia', 100000)\n",
    "'''\n",
    "# CRUD Create Register(insert) Update Delete\n",
    "crsr.execute(query)\n",
    "\n"
   ]
  },
  {
   "cell_type": "code",
   "execution_count": 50,
   "id": "41c67e93",
   "metadata": {},
   "outputs": [
    {
     "ename": "OperationalError",
     "evalue": "no such table: reparto",
     "output_type": "error",
     "traceback": [
      "\u001b[31m---------------------------------------------------------------------------\u001b[39m",
      "\u001b[31mOperationalError\u001b[39m                          Traceback (most recent call last)",
      "\u001b[36mCell\u001b[39m\u001b[36m \u001b[39m\u001b[32mIn[50]\u001b[39m\u001b[32m, line 15\u001b[39m\n\u001b[32m      1\u001b[39m query = \u001b[33m'''\u001b[39m\n\u001b[32m      2\u001b[39m \u001b[33mINSERT OR REPLACE INTO reparto (CodE, CodB, CodC, Fecha, Cantidad) \u001b[39m\n\u001b[32m      3\u001b[39m \u001b[33mVALUES  (\u001b[39m\u001b[33m'\u001b[39m\u001b[33m1\u001b[39m\u001b[33m'\u001b[39m\u001b[33m,\u001b[39m\u001b[33m'\u001b[39m\u001b[33m001\u001b[39m\u001b[33m'\u001b[39m\u001b[33m,\u001b[39m\u001b[33m'\u001b[39m\u001b[33m01\u001b[39m\u001b[33m'\u001b[39m\u001b[33m,\u001b[39m\u001b[33m'\u001b[39m\u001b[33m2005-10-21\u001b[39m\u001b[33m'\u001b[39m\u001b[33m,240 ),\u001b[39m\n\u001b[32m   (...)\u001b[39m\u001b[32m     13\u001b[39m \u001b[33m;\u001b[39m\n\u001b[32m     14\u001b[39m \u001b[33m'''\u001b[39m\n\u001b[32m---> \u001b[39m\u001b[32m15\u001b[39m \u001b[43mcrsr\u001b[49m\u001b[43m.\u001b[49m\u001b[43mexecute\u001b[49m\u001b[43m(\u001b[49m\u001b[43mquery\u001b[49m\u001b[43m)\u001b[49m\n",
      "\u001b[31mOperationalError\u001b[39m: no such table: reparto"
     ]
    }
   ],
   "source": [
    "query = '''\n",
    "INSERT OR REPLACE INTO reparto (CodE, CodB, CodC, Fecha, Cantidad) \n",
    "VALUES  ('1','001','01','2005-10-21',240 ),\n",
    "( '1','001','02','2005-10-21',48 ),\n",
    "( '1','002','03','2005-10-22',60 ),\n",
    "( '1','004','05','2005-10-22',4 ),\n",
    "( '2','002','03','2005-10-22',48 ),\n",
    "( '2','002','05','2005-10-23',2 ),\n",
    "( '2','004','01','2005-10-23',480 ),\n",
    "( '2','004','02','2005-10-24',72 ),\n",
    "( '3','003','03','2005-10-24',48 ),\n",
    "( '3','003','04','2005-10-25',20 )\n",
    ";\n",
    "'''\n",
    "crsr.execute(query)"
   ]
  },
  {
   "cell_type": "code",
   "execution_count": 22,
   "id": "c9e845b6-1057-47ab-a4c2-839afce73a91",
   "metadata": {},
   "outputs": [
    {
     "data": {
      "text/plain": [
       "<sqlite3.Cursor at 0x233e7a45740>"
      ]
     },
     "execution_count": 22,
     "metadata": {},
     "output_type": "execute_result"
    }
   ],
   "source": [
    "query = '''\n",
    "INSERT OR REPLACE INTO bares VALUES ('001','Stop', '11111111X','Villa Botijo'),\n",
    "('002', 'Las Vegas', '22222222Y', 'Villa Botijo'),\n",
    "('003', 'Club Social', NULL, 'Las Ranas'),\n",
    "('004','Otra Ronda','33333333Z','La Esponja')\n",
    "'''\n",
    "crsr.execute(query)"
   ]
  },
  {
   "cell_type": "code",
   "execution_count": 23,
   "id": "58b324fa-06a2-4ae6-a2c8-ae910c7d5664",
   "metadata": {},
   "outputs": [
    {
     "data": {
      "text/plain": [
       "<sqlite3.Cursor at 0x233e7a45740>"
      ]
     },
     "execution_count": 23,
     "metadata": {},
     "output_type": "execute_result"
    }
   ],
   "source": [
    "query = '''\n",
    "INSERT OR IGNORE INTO Cervezas VALUES ('01','Botella',0.2,3600),\n",
    "('02', 'Botella', 0.33, 1200),\n",
    "('03', 'Lata', 0.33, 2400),\n",
    "('04','Botella',1,288),\n",
    "('05','Barril',60,30)\n",
    "'''\n",
    "crsr.execute(query)"
   ]
  },
  {
   "cell_type": "code",
   "execution_count": 24,
   "id": "599d0287",
   "metadata": {},
   "outputs": [
    {
     "ename": "OperationalError",
     "evalue": "no such table: reparto",
     "output_type": "error",
     "traceback": [
      "\u001b[31m---------------------------------------------------------------------------\u001b[39m",
      "\u001b[31mOperationalError\u001b[39m                          Traceback (most recent call last)",
      "\u001b[36mCell\u001b[39m\u001b[36m \u001b[39m\u001b[32mIn[24]\u001b[39m\u001b[32m, line 4\u001b[39m\n\u001b[32m      1\u001b[39m query = \u001b[33m'''\u001b[39m\n\u001b[32m      2\u001b[39m \u001b[33mSELECT * FROM reparto \u001b[39m\n\u001b[32m      3\u001b[39m \u001b[33m'''\u001b[39m\n\u001b[32m----> \u001b[39m\u001b[32m4\u001b[39m \u001b[43msql_query\u001b[49m\u001b[43m(\u001b[49m\u001b[43mquery\u001b[49m\u001b[43m)\u001b[49m\n",
      "\u001b[36mCell\u001b[39m\u001b[36m \u001b[39m\u001b[32mIn[6]\u001b[39m\u001b[32m, line 5\u001b[39m, in \u001b[36msql_query\u001b[39m\u001b[34m(query)\u001b[39m\n\u001b[32m      2\u001b[39m \u001b[38;5;28;01mdef\u001b[39;00m\u001b[38;5;250m \u001b[39m\u001b[34msql_query\u001b[39m(query):\n\u001b[32m      3\u001b[39m \n\u001b[32m      4\u001b[39m     \u001b[38;5;66;03m# Ejecuta la query\u001b[39;00m\n\u001b[32m----> \u001b[39m\u001b[32m5\u001b[39m     \u001b[43mcrsr\u001b[49m\u001b[43m.\u001b[49m\u001b[43mexecute\u001b[49m\u001b[43m(\u001b[49m\u001b[43mquery\u001b[49m\u001b[43m)\u001b[49m\n\u001b[32m      7\u001b[39m     \u001b[38;5;66;03m# Almacena los datos de la query \u001b[39;00m\n\u001b[32m      8\u001b[39m     ans = crsr.fetchall()\n",
      "\u001b[31mOperationalError\u001b[39m: no such table: reparto"
     ]
    }
   ],
   "source": [
    "query = '''\n",
    "SELECT * FROM reparto \n",
    "'''\n",
    "sql_query(query)"
   ]
  },
  {
   "cell_type": "code",
   "execution_count": 26,
   "id": "2ee631fd-0712-4a3b-852e-e80adcc9e06b",
   "metadata": {},
   "outputs": [
    {
     "ename": "OperationalError",
     "evalue": "no such table: reparto",
     "output_type": "error",
     "traceback": [
      "\u001b[31m---------------------------------------------------------------------------\u001b[39m",
      "\u001b[31mOperationalError\u001b[39m                          Traceback (most recent call last)",
      "\u001b[36mCell\u001b[39m\u001b[36m \u001b[39m\u001b[32mIn[26]\u001b[39m\u001b[32m, line 14\u001b[39m\n\u001b[32m      1\u001b[39m \u001b[38;5;66;03m# 1 Obtener el nombre de los empleados que hayan repartido al bar Stop durante la semana \u001b[39;00m\n\u001b[32m      2\u001b[39m \u001b[38;5;66;03m# del 17 al 23 de octubre de 2005.\u001b[39;00m\n\u001b[32m      4\u001b[39m query = \u001b[33m'''\u001b[39m\n\u001b[32m      5\u001b[39m \u001b[33mSELECT DISTINCT empleados.Nombre \u001b[39m\n\u001b[32m      6\u001b[39m \u001b[33mFROM reparto\u001b[39m\n\u001b[32m   (...)\u001b[39m\u001b[32m     11\u001b[39m \u001b[33mWHERE bares.Nombre = \u001b[39m\u001b[33m\"\u001b[39m\u001b[33mStop\u001b[39m\u001b[33m\"\u001b[39m\u001b[33m AND reparto.Fecha BETWEEN \u001b[39m\u001b[33m'\u001b[39m\u001b[33m17/10/2005\u001b[39m\u001b[33m'\u001b[39m\u001b[33m AND \u001b[39m\u001b[33m'\u001b[39m\u001b[33m23/10/2005\u001b[39m\u001b[33m'\u001b[39m\n\u001b[32m     12\u001b[39m \u001b[33m'''\u001b[39m\n\u001b[32m---> \u001b[39m\u001b[32m14\u001b[39m \u001b[43msql_query\u001b[49m\u001b[43m(\u001b[49m\u001b[43mquery\u001b[49m\u001b[43m)\u001b[49m\n",
      "\u001b[36mCell\u001b[39m\u001b[36m \u001b[39m\u001b[32mIn[6]\u001b[39m\u001b[32m, line 5\u001b[39m, in \u001b[36msql_query\u001b[39m\u001b[34m(query)\u001b[39m\n\u001b[32m      2\u001b[39m \u001b[38;5;28;01mdef\u001b[39;00m\u001b[38;5;250m \u001b[39m\u001b[34msql_query\u001b[39m(query):\n\u001b[32m      3\u001b[39m \n\u001b[32m      4\u001b[39m     \u001b[38;5;66;03m# Ejecuta la query\u001b[39;00m\n\u001b[32m----> \u001b[39m\u001b[32m5\u001b[39m     \u001b[43mcrsr\u001b[49m\u001b[43m.\u001b[49m\u001b[43mexecute\u001b[49m\u001b[43m(\u001b[49m\u001b[43mquery\u001b[49m\u001b[43m)\u001b[49m\n\u001b[32m      7\u001b[39m     \u001b[38;5;66;03m# Almacena los datos de la query \u001b[39;00m\n\u001b[32m      8\u001b[39m     ans = crsr.fetchall()\n",
      "\u001b[31mOperationalError\u001b[39m: no such table: reparto"
     ]
    }
   ],
   "source": [
    "# 1 Obtener el nombre de los empleados que hayan repartido al bar Stop durante la semana \n",
    "# del 17 al 23 de octubre de 2005.\n",
    "\n",
    "query = '''\n",
    "SELECT DISTINCT empleados.Nombre \n",
    "FROM reparto\n",
    "LEFT JOIN bares\n",
    "ON reparto.CodB = bares.CodB\n",
    "LEFT JOIN empleados\n",
    "ON reparto.CodE = empleados.CodE\n",
    "WHERE bares.Nombre = \"Stop\" AND reparto.Fecha BETWEEN '17/10/2005' AND '23/10/2005'\n",
    "'''\n",
    "\n",
    "sql_query(query)\n"
   ]
  },
  {
   "cell_type": "code",
   "execution_count": 42,
   "id": "ad5fa98a-947b-4c19-a049-488074242cb7",
   "metadata": {},
   "outputs": [
    {
     "ename": "OperationalError",
     "evalue": "no such table: reparto",
     "output_type": "error",
     "traceback": [
      "\u001b[31m---------------------------------------------------------------------------\u001b[39m",
      "\u001b[31mOperationalError\u001b[39m                          Traceback (most recent call last)",
      "\u001b[36mCell\u001b[39m\u001b[36m \u001b[39m\u001b[32mIn[42]\u001b[39m\u001b[32m, line 13\u001b[39m\n\u001b[32m      1\u001b[39m \u001b[38;5;66;03m#2\u001b[39;00m\n\u001b[32m      2\u001b[39m query = \u001b[33m'''\u001b[39m\n\u001b[32m      3\u001b[39m \u001b[33mSELECT DISTINCT bares.Cif, bares.Nombre\u001b[39m\n\u001b[32m      4\u001b[39m \u001b[33mFROM reparto\u001b[39m\n\u001b[32m   (...)\u001b[39m\u001b[32m     10\u001b[39m \u001b[33mORDER BY bares.Localidad\u001b[39m\n\u001b[32m     11\u001b[39m \u001b[33m'''\u001b[39m\n\u001b[32m---> \u001b[39m\u001b[32m13\u001b[39m \u001b[43msql_query\u001b[49m\u001b[43m(\u001b[49m\u001b[43mquery\u001b[49m\u001b[43m)\u001b[49m\n",
      "\u001b[36mCell\u001b[39m\u001b[36m \u001b[39m\u001b[32mIn[6]\u001b[39m\u001b[32m, line 5\u001b[39m, in \u001b[36msql_query\u001b[39m\u001b[34m(query)\u001b[39m\n\u001b[32m      2\u001b[39m \u001b[38;5;28;01mdef\u001b[39;00m\u001b[38;5;250m \u001b[39m\u001b[34msql_query\u001b[39m(query):\n\u001b[32m      3\u001b[39m \n\u001b[32m      4\u001b[39m     \u001b[38;5;66;03m# Ejecuta la query\u001b[39;00m\n\u001b[32m----> \u001b[39m\u001b[32m5\u001b[39m     \u001b[43mcrsr\u001b[49m\u001b[43m.\u001b[49m\u001b[43mexecute\u001b[49m\u001b[43m(\u001b[49m\u001b[43mquery\u001b[49m\u001b[43m)\u001b[49m\n\u001b[32m      7\u001b[39m     \u001b[38;5;66;03m# Almacena los datos de la query \u001b[39;00m\n\u001b[32m      8\u001b[39m     ans = crsr.fetchall()\n",
      "\u001b[31mOperationalError\u001b[39m: no such table: reparto"
     ]
    }
   ],
   "source": [
    "#2\n",
    "query = '''\n",
    "SELECT DISTINCT bares.Cif, bares.Nombre\n",
    "FROM reparto\n",
    "LEFT JOIN bares\n",
    "ON reparto.CodB = bares.CodB\n",
    "LEFT JOIN cervezas\n",
    "ON reparto.CodC = cervezas.CodC\n",
    "WHERE cervezas.Envase = \"Botella\" AND cervezas.Capacidad < 1\n",
    "ORDER BY bares.Localidad\n",
    "'''\n",
    "\n",
    "sql_query(query)"
   ]
  },
  {
   "cell_type": "code",
   "execution_count": 69,
   "id": "decae038-7948-40ba-b9e3-5c150153b640",
   "metadata": {},
   "outputs": [
    {
     "ename": "OperationalError",
     "evalue": "no such table: reparto",
     "output_type": "error",
     "traceback": [
      "\u001b[31m---------------------------------------------------------------------------\u001b[39m",
      "\u001b[31mOperationalError\u001b[39m                          Traceback (most recent call last)",
      "\u001b[36mCell\u001b[39m\u001b[36m \u001b[39m\u001b[32mIn[69]\u001b[39m\u001b[32m, line 12\u001b[39m\n\u001b[32m      1\u001b[39m \u001b[38;5;66;03m# 3. Obtener los repartos (nombre del bar, envase y capacidad de la bebida, fecha y cantidad)\u001b[39;00m\n\u001b[32m      3\u001b[39m query = \u001b[33m'''\u001b[39m\n\u001b[32m      4\u001b[39m \u001b[33mSELECT DISTINCT bares.Nombre, cervezas.Envase, cervezas.Capacidad, reparto.Fecha, reparto.Cantidad\u001b[39m\n\u001b[32m      5\u001b[39m \u001b[33mFROM reparto\u001b[39m\n\u001b[32m   (...)\u001b[39m\u001b[32m      9\u001b[39m \u001b[33mON reparto.CodC = cervezas.CodC\u001b[39m\n\u001b[32m     10\u001b[39m \u001b[33m'''\u001b[39m\n\u001b[32m---> \u001b[39m\u001b[32m12\u001b[39m \u001b[43msql_query\u001b[49m\u001b[43m(\u001b[49m\u001b[43mquery\u001b[49m\u001b[43m)\u001b[49m\n",
      "\u001b[36mCell\u001b[39m\u001b[36m \u001b[39m\u001b[32mIn[54]\u001b[39m\u001b[32m, line 5\u001b[39m, in \u001b[36msql_query\u001b[39m\u001b[34m(query)\u001b[39m\n\u001b[32m      2\u001b[39m \u001b[38;5;28;01mdef\u001b[39;00m\u001b[38;5;250m \u001b[39m\u001b[34msql_query\u001b[39m(query):\n\u001b[32m      3\u001b[39m \n\u001b[32m      4\u001b[39m     \u001b[38;5;66;03m# Ejecuta la query\u001b[39;00m\n\u001b[32m----> \u001b[39m\u001b[32m5\u001b[39m     \u001b[43mcrsr\u001b[49m\u001b[43m.\u001b[49m\u001b[43mexecute\u001b[49m\u001b[43m(\u001b[49m\u001b[43mquery\u001b[49m\u001b[43m)\u001b[49m\n\u001b[32m      7\u001b[39m     \u001b[38;5;66;03m# Almacena los datos de la query \u001b[39;00m\n\u001b[32m      8\u001b[39m     ans = crsr.fetchall()\n",
      "\u001b[31mOperationalError\u001b[39m: no such table: reparto"
     ]
    }
   ],
   "source": [
    "# 3. Obtener los repartos (nombre del bar, envase y capacidad de la bebida, fecha y cantidad)\n",
    "\n",
    "query = '''\n",
    "SELECT DISTINCT bares.Nombre, cervezas.Envase, cervezas.Capacidad, reparto.Fecha, reparto.Cantidad\n",
    "FROM reparto\n",
    "LEFT JOIN bares\n",
    "ON reparto.CodB = bares.CodB\n",
    "LEFT JOIN cervezas\n",
    "ON reparto.CodC = cervezas.CodC\n",
    "'''\n",
    "\n",
    "sql_query(query)"
   ]
  },
  {
   "cell_type": "code",
   "execution_count": 70,
   "id": "2a176819-90fa-4ed1-ae8e-0ce753cf01ce",
   "metadata": {},
   "outputs": [
    {
     "ename": "OperationalError",
     "evalue": "no such table: reparto",
     "output_type": "error",
     "traceback": [
      "\u001b[31m---------------------------------------------------------------------------\u001b[39m",
      "\u001b[31mOperationalError\u001b[39m                          Traceback (most recent call last)",
      "\u001b[36mCell\u001b[39m\u001b[36m \u001b[39m\u001b[32mIn[70]\u001b[39m\u001b[32m, line 13\u001b[39m\n\u001b[32m      1\u001b[39m \u001b[38;5;66;03m# 4. Obtener los bares a los que se les ha repartido envases de tipo botella y capacidad 0.2 o\u001b[39;00m\n\u001b[32m      2\u001b[39m \u001b[38;5;66;03m# 0.33\u001b[39;00m\n\u001b[32m      4\u001b[39m query = \u001b[33m'''\u001b[39m\n\u001b[32m      5\u001b[39m \u001b[33mSELECT DISTINCT bares.Nombre, cervezas.Envase, cervezas.Capacidad\u001b[39m\n\u001b[32m      6\u001b[39m \u001b[33mFROM reparto\u001b[39m\n\u001b[32m   (...)\u001b[39m\u001b[32m     11\u001b[39m \u001b[33mWHERE cervezas.Envase = \u001b[39m\u001b[33m\"\u001b[39m\u001b[33mBotella\u001b[39m\u001b[33m\"\u001b[39m\u001b[33m AND cervezas.Capacidad IN (0.2, 0.33)\u001b[39m\n\u001b[32m     12\u001b[39m \u001b[33m'''\u001b[39m\n\u001b[32m---> \u001b[39m\u001b[32m13\u001b[39m \u001b[43msql_query\u001b[49m\u001b[43m(\u001b[49m\u001b[43mquery\u001b[49m\u001b[43m)\u001b[49m\n",
      "\u001b[36mCell\u001b[39m\u001b[36m \u001b[39m\u001b[32mIn[54]\u001b[39m\u001b[32m, line 5\u001b[39m, in \u001b[36msql_query\u001b[39m\u001b[34m(query)\u001b[39m\n\u001b[32m      2\u001b[39m \u001b[38;5;28;01mdef\u001b[39;00m\u001b[38;5;250m \u001b[39m\u001b[34msql_query\u001b[39m(query):\n\u001b[32m      3\u001b[39m \n\u001b[32m      4\u001b[39m     \u001b[38;5;66;03m# Ejecuta la query\u001b[39;00m\n\u001b[32m----> \u001b[39m\u001b[32m5\u001b[39m     \u001b[43mcrsr\u001b[49m\u001b[43m.\u001b[49m\u001b[43mexecute\u001b[49m\u001b[43m(\u001b[49m\u001b[43mquery\u001b[49m\u001b[43m)\u001b[49m\n\u001b[32m      7\u001b[39m     \u001b[38;5;66;03m# Almacena los datos de la query \u001b[39;00m\n\u001b[32m      8\u001b[39m     ans = crsr.fetchall()\n",
      "\u001b[31mOperationalError\u001b[39m: no such table: reparto"
     ]
    }
   ],
   "source": [
    "# 4. Obtener los bares a los que se les ha repartido envases de tipo botella y capacidad 0.2 o\n",
    "# 0.33\n",
    "\n",
    "query = '''\n",
    "SELECT DISTINCT bares.Nombre, cervezas.Envase, cervezas.Capacidad\n",
    "FROM reparto\n",
    "LEFT JOIN bares\n",
    "ON reparto.CodB = bares.CodB\n",
    "LEFT JOIN cervezas\n",
    "ON reparto.CodC = cervezas.CodC\n",
    "WHERE cervezas.Envase = \"Botella\" AND cervezas.Capacidad IN (0.2, 0.33)\n",
    "'''\n",
    "sql_query(query)"
   ]
  },
  {
   "cell_type": "code",
   "execution_count": null,
   "id": "327dd478-0541-4e49-9941-b2faab50c528",
   "metadata": {},
   "outputs": [
    {
     "data": {
      "text/html": [
       "<div>\n",
       "<style scoped>\n",
       "    .dataframe tbody tr th:only-of-type {\n",
       "        vertical-align: middle;\n",
       "    }\n",
       "\n",
       "    .dataframe tbody tr th {\n",
       "        vertical-align: top;\n",
       "    }\n",
       "\n",
       "    .dataframe thead th {\n",
       "        text-align: right;\n",
       "    }\n",
       "</style>\n",
       "<table border=\"1\" class=\"dataframe\">\n",
       "  <thead>\n",
       "    <tr style=\"text-align: right;\">\n",
       "      <th></th>\n",
       "      <th>nombreE</th>\n",
       "      <th>nombreB</th>\n",
       "      <th>Envase</th>\n",
       "    </tr>\n",
       "  </thead>\n",
       "  <tbody>\n",
       "    <tr>\n",
       "      <th>0</th>\n",
       "      <td>Carlos Lopez</td>\n",
       "      <td>Stop</td>\n",
       "      <td>Botella</td>\n",
       "    </tr>\n",
       "    <tr>\n",
       "      <th>1</th>\n",
       "      <td>Carlos Lopez</td>\n",
       "      <td>Stop</td>\n",
       "      <td>Botella</td>\n",
       "    </tr>\n",
       "  </tbody>\n",
       "</table>\n",
       "</div>"
      ],
      "text/plain": [
       "        nombreE nombreB   Envase\n",
       "0  Carlos Lopez    Stop  Botella\n",
       "1  Carlos Lopez    Stop  Botella"
      ]
     },
     "execution_count": 20,
     "metadata": {},
     "output_type": "execute_result"
    }
   ],
   "source": [
    "#5\n",
    "query = '''\n",
    "\n",
    "\n",
    "'''\n",
    "sql_query(query)"
   ]
  },
  {
   "cell_type": "code",
   "execution_count": 71,
   "id": "9a05e91e-9b11-4953-9e53-86a53544c71d",
   "metadata": {},
   "outputs": [
    {
     "ename": "OperationalError",
     "evalue": "no such table: reparto",
     "output_type": "error",
     "traceback": [
      "\u001b[31m---------------------------------------------------------------------------\u001b[39m",
      "\u001b[31mOperationalError\u001b[39m                          Traceback (most recent call last)",
      "\u001b[36mCell\u001b[39m\u001b[36m \u001b[39m\u001b[32mIn[71]\u001b[39m\u001b[32m, line 15\u001b[39m\n\u001b[32m      1\u001b[39m \u001b[38;5;66;03m# 5. Nombre de los empleados que han repartido a los bares \"Stop\" y \"Las Vegas\" cervezas con\u001b[39;00m\n\u001b[32m      2\u001b[39m \u001b[38;5;66;03m# envase botella.\u001b[39;00m\n\u001b[32m      4\u001b[39m query = \u001b[33m'''\u001b[39m\n\u001b[32m      5\u001b[39m \u001b[33mSELECT bares.Nombre, empleados.Nombre, cervezas.Envase\u001b[39m\n\u001b[32m      6\u001b[39m \u001b[33mFROM reparto\u001b[39m\n\u001b[32m   (...)\u001b[39m\u001b[32m     13\u001b[39m \u001b[33mWHERE bares.Nombre IN (\u001b[39m\u001b[33m\"\u001b[39m\u001b[33mStop\u001b[39m\u001b[33m\"\u001b[39m\u001b[33m, \u001b[39m\u001b[33m\"\u001b[39m\u001b[33mLas Vegas\u001b[39m\u001b[33m\"\u001b[39m\u001b[33m) AND cervezas.Envase = \u001b[39m\u001b[33m\"\u001b[39m\u001b[33mBotella\u001b[39m\u001b[33m\"\u001b[39m\n\u001b[32m     14\u001b[39m \u001b[33m'''\u001b[39m\n\u001b[32m---> \u001b[39m\u001b[32m15\u001b[39m \u001b[43msql_query\u001b[49m\u001b[43m(\u001b[49m\u001b[43mquery\u001b[49m\u001b[43m)\u001b[49m\n",
      "\u001b[36mCell\u001b[39m\u001b[36m \u001b[39m\u001b[32mIn[54]\u001b[39m\u001b[32m, line 5\u001b[39m, in \u001b[36msql_query\u001b[39m\u001b[34m(query)\u001b[39m\n\u001b[32m      2\u001b[39m \u001b[38;5;28;01mdef\u001b[39;00m\u001b[38;5;250m \u001b[39m\u001b[34msql_query\u001b[39m(query):\n\u001b[32m      3\u001b[39m \n\u001b[32m      4\u001b[39m     \u001b[38;5;66;03m# Ejecuta la query\u001b[39;00m\n\u001b[32m----> \u001b[39m\u001b[32m5\u001b[39m     \u001b[43mcrsr\u001b[49m\u001b[43m.\u001b[49m\u001b[43mexecute\u001b[49m\u001b[43m(\u001b[49m\u001b[43mquery\u001b[49m\u001b[43m)\u001b[49m\n\u001b[32m      7\u001b[39m     \u001b[38;5;66;03m# Almacena los datos de la query \u001b[39;00m\n\u001b[32m      8\u001b[39m     ans = crsr.fetchall()\n",
      "\u001b[31mOperationalError\u001b[39m: no such table: reparto"
     ]
    }
   ],
   "source": [
    "# 5. Nombre de los empleados que han repartido a los bares \"Stop\" y \"Las Vegas\" cervezas con\n",
    "# envase botella.\n",
    "\n",
    "query = '''\n",
    "SELECT bares.Nombre, empleados.Nombre, cervezas.Envase\n",
    "FROM reparto\n",
    "LEFT JOIN bares\n",
    "ON reparto.CodB = bares.CodB\n",
    "LEFT JOIN cervezas\n",
    "ON reparto.CodC = cervezas.CodC\n",
    "LEFT JOIN empleados\n",
    "ON reparto.CodE = empleados.CodE\n",
    "WHERE bares.Nombre IN (\"Stop\", \"Las Vegas\") AND cervezas.Envase = \"Botella\"\n",
    "'''\n",
    "sql_query(query)"
   ]
  },
  {
   "cell_type": "code",
   "execution_count": 72,
   "id": "e9814519-30ea-4e41-acd7-ff0652827315",
   "metadata": {},
   "outputs": [
    {
     "ename": "OperationalError",
     "evalue": "no such table: reparto",
     "output_type": "error",
     "traceback": [
      "\u001b[31m---------------------------------------------------------------------------\u001b[39m",
      "\u001b[31mOperationalError\u001b[39m                          Traceback (most recent call last)",
      "\u001b[36mCell\u001b[39m\u001b[36m \u001b[39m\u001b[32mIn[72]\u001b[39m\u001b[32m, line 14\u001b[39m\n\u001b[32m      1\u001b[39m \u001b[38;5;66;03m# 6. Obtener el nombre y número de viajes que ha realizado cada empleado fuera de Villa\u001b[39;00m\n\u001b[32m      2\u001b[39m \u001b[38;5;66;03m# Botijo.\u001b[39;00m\n\u001b[32m      4\u001b[39m query = \u001b[33m'''\u001b[39m\n\u001b[32m      5\u001b[39m \u001b[33mSELECT empleados.CodE, empleados.Nombre, COUNT(*) \u001b[39m\u001b[33m'\u001b[39m\u001b[33mViajes\u001b[39m\u001b[33m'\u001b[39m\n\u001b[32m      6\u001b[39m \u001b[33mFROM reparto\u001b[39m\n\u001b[32m   (...)\u001b[39m\u001b[32m     12\u001b[39m \u001b[33mGROUP BY  empleados.CodE\u001b[39m\n\u001b[32m     13\u001b[39m \u001b[33m'''\u001b[39m\n\u001b[32m---> \u001b[39m\u001b[32m14\u001b[39m \u001b[43msql_query\u001b[49m\u001b[43m(\u001b[49m\u001b[43mquery\u001b[49m\u001b[43m)\u001b[49m\n",
      "\u001b[36mCell\u001b[39m\u001b[36m \u001b[39m\u001b[32mIn[54]\u001b[39m\u001b[32m, line 5\u001b[39m, in \u001b[36msql_query\u001b[39m\u001b[34m(query)\u001b[39m\n\u001b[32m      2\u001b[39m \u001b[38;5;28;01mdef\u001b[39;00m\u001b[38;5;250m \u001b[39m\u001b[34msql_query\u001b[39m(query):\n\u001b[32m      3\u001b[39m \n\u001b[32m      4\u001b[39m     \u001b[38;5;66;03m# Ejecuta la query\u001b[39;00m\n\u001b[32m----> \u001b[39m\u001b[32m5\u001b[39m     \u001b[43mcrsr\u001b[49m\u001b[43m.\u001b[49m\u001b[43mexecute\u001b[49m\u001b[43m(\u001b[49m\u001b[43mquery\u001b[49m\u001b[43m)\u001b[49m\n\u001b[32m      7\u001b[39m     \u001b[38;5;66;03m# Almacena los datos de la query \u001b[39;00m\n\u001b[32m      8\u001b[39m     ans = crsr.fetchall()\n",
      "\u001b[31mOperationalError\u001b[39m: no such table: reparto"
     ]
    }
   ],
   "source": [
    "# 6. Obtener el nombre y número de viajes que ha realizado cada empleado fuera de Villa\n",
    "# Botijo.\n",
    "\n",
    "query = '''\n",
    "SELECT empleados.CodE, empleados.Nombre, COUNT(*) 'Viajes'\n",
    "FROM reparto\n",
    "LEFT JOIN bares\n",
    "ON reparto.CodB = bares.CodB\n",
    "LEFT JOIN empleados\n",
    "ON reparto.CodE = empleados.CodE\n",
    "WHERE bares.Localidad <> \"Villa Botijo\"\n",
    "GROUP BY  empleados.CodE\n",
    "'''\n",
    "sql_query(query)"
   ]
  },
  {
   "cell_type": "code",
   "execution_count": 73,
   "id": "58018cd2-7fb6-4329-b247-961cf7f890e5",
   "metadata": {},
   "outputs": [
    {
     "ename": "OperationalError",
     "evalue": "no such table: reparto",
     "output_type": "error",
     "traceback": [
      "\u001b[31m---------------------------------------------------------------------------\u001b[39m",
      "\u001b[31mOperationalError\u001b[39m                          Traceback (most recent call last)",
      "\u001b[36mCell\u001b[39m\u001b[36m \u001b[39m\u001b[32mIn[73]\u001b[39m\u001b[32m, line 12\u001b[39m\n\u001b[32m      1\u001b[39m query = \u001b[33m'''\u001b[39m\n\u001b[32m      2\u001b[39m \u001b[33mSELECT bares.Nombre, bares.Localidad, SUM(cervezas.Capacidad * reparto.Cantidad) AS litros\u001b[39m\n\u001b[32m      3\u001b[39m \u001b[33mFROM reparto\u001b[39m\n\u001b[32m   (...)\u001b[39m\u001b[32m     10\u001b[39m \u001b[33mLIMIT 1\u001b[39m\n\u001b[32m     11\u001b[39m \u001b[33m'''\u001b[39m\n\u001b[32m---> \u001b[39m\u001b[32m12\u001b[39m \u001b[43msql_query\u001b[49m\u001b[43m(\u001b[49m\u001b[43mquery\u001b[49m\u001b[43m)\u001b[49m\n",
      "\u001b[36mCell\u001b[39m\u001b[36m \u001b[39m\u001b[32mIn[54]\u001b[39m\u001b[32m, line 5\u001b[39m, in \u001b[36msql_query\u001b[39m\u001b[34m(query)\u001b[39m\n\u001b[32m      2\u001b[39m \u001b[38;5;28;01mdef\u001b[39;00m\u001b[38;5;250m \u001b[39m\u001b[34msql_query\u001b[39m(query):\n\u001b[32m      3\u001b[39m \n\u001b[32m      4\u001b[39m     \u001b[38;5;66;03m# Ejecuta la query\u001b[39;00m\n\u001b[32m----> \u001b[39m\u001b[32m5\u001b[39m     \u001b[43mcrsr\u001b[49m\u001b[43m.\u001b[49m\u001b[43mexecute\u001b[49m\u001b[43m(\u001b[49m\u001b[43mquery\u001b[49m\u001b[43m)\u001b[49m\n\u001b[32m      7\u001b[39m     \u001b[38;5;66;03m# Almacena los datos de la query \u001b[39;00m\n\u001b[32m      8\u001b[39m     ans = crsr.fetchall()\n",
      "\u001b[31mOperationalError\u001b[39m: no such table: reparto"
     ]
    }
   ],
   "source": [
    "query = '''\n",
    "SELECT bares.Nombre, bares.Localidad, SUM(cervezas.Capacidad * reparto.Cantidad) AS litros\n",
    "FROM reparto\n",
    "LEFT JOIN bares\n",
    "ON reparto.CodB = bares.CodB\n",
    "LEFT JOIN cervezas\n",
    "ON reparto.CodC = cervezas.CodC\n",
    "GROUP BY 1,2\n",
    "ORDER BY 3 DESC\n",
    "LIMIT 1\n",
    "'''\n",
    "sql_query(query)"
   ]
  },
  {
   "cell_type": "code",
   "execution_count": 74,
   "id": "81252167-20da-471d-af35-e96054d3d6c1",
   "metadata": {},
   "outputs": [
    {
     "ename": "OperationalError",
     "evalue": "no such table: reparto",
     "output_type": "error",
     "traceback": [
      "\u001b[31m---------------------------------------------------------------------------\u001b[39m",
      "\u001b[31mOperationalError\u001b[39m                          Traceback (most recent call last)",
      "\u001b[36mCell\u001b[39m\u001b[36m \u001b[39m\u001b[32mIn[74]\u001b[39m\u001b[32m, line 14\u001b[39m\n\u001b[32m      1\u001b[39m \u001b[38;5;66;03m# 7. Obtener el nombre y localidad del bar que más litros de cerveza ha comprado.\u001b[39;00m\n\u001b[32m      3\u001b[39m query = \u001b[33m'''\u001b[39m\n\u001b[32m      4\u001b[39m \u001b[33mSELECT bares.Nombre, bares.Localidad, SUM(cervezas.Capacidad * reparto.Cantidad) AS litros\u001b[39m\n\u001b[32m      5\u001b[39m \u001b[33mFROM reparto\u001b[39m\n\u001b[32m   (...)\u001b[39m\u001b[32m     12\u001b[39m \u001b[33mLIMIT 1\u001b[39m\n\u001b[32m     13\u001b[39m \u001b[33m'''\u001b[39m\n\u001b[32m---> \u001b[39m\u001b[32m14\u001b[39m \u001b[43msql_query\u001b[49m\u001b[43m(\u001b[49m\u001b[43mquery\u001b[49m\u001b[43m)\u001b[49m\n",
      "\u001b[36mCell\u001b[39m\u001b[36m \u001b[39m\u001b[32mIn[54]\u001b[39m\u001b[32m, line 5\u001b[39m, in \u001b[36msql_query\u001b[39m\u001b[34m(query)\u001b[39m\n\u001b[32m      2\u001b[39m \u001b[38;5;28;01mdef\u001b[39;00m\u001b[38;5;250m \u001b[39m\u001b[34msql_query\u001b[39m(query):\n\u001b[32m      3\u001b[39m \n\u001b[32m      4\u001b[39m     \u001b[38;5;66;03m# Ejecuta la query\u001b[39;00m\n\u001b[32m----> \u001b[39m\u001b[32m5\u001b[39m     \u001b[43mcrsr\u001b[49m\u001b[43m.\u001b[49m\u001b[43mexecute\u001b[49m\u001b[43m(\u001b[49m\u001b[43mquery\u001b[49m\u001b[43m)\u001b[49m\n\u001b[32m      7\u001b[39m     \u001b[38;5;66;03m# Almacena los datos de la query \u001b[39;00m\n\u001b[32m      8\u001b[39m     ans = crsr.fetchall()\n",
      "\u001b[31mOperationalError\u001b[39m: no such table: reparto"
     ]
    }
   ],
   "source": [
    "# 7. Obtener el nombre y localidad del bar que más litros de cerveza ha comprado.\n",
    "\n",
    "query = '''\n",
    "SELECT bares.Nombre, bares.Localidad, SUM(cervezas.Capacidad * reparto.Cantidad) AS litros\n",
    "FROM reparto\n",
    "LEFT JOIN bares\n",
    "ON reparto.CodB = bares.CodB\n",
    "LEFT JOIN cervezas\n",
    "ON reparto.CodC = cervezas.CodC\n",
    "GROUP BY 1,2\n",
    "ORDER BY 3 DESC\n",
    "LIMIT 1\n",
    "'''\n",
    "sql_query(query)"
   ]
  },
  {
   "cell_type": "code",
   "execution_count": 75,
   "id": "4478fcbf",
   "metadata": {},
   "outputs": [
    {
     "ename": "OperationalError",
     "evalue": "no such table: reparto",
     "output_type": "error",
     "traceback": [
      "\u001b[31m---------------------------------------------------------------------------\u001b[39m",
      "\u001b[31mOperationalError\u001b[39m                          Traceback (most recent call last)",
      "\u001b[36mCell\u001b[39m\u001b[36m \u001b[39m\u001b[32mIn[75]\u001b[39m\u001b[32m, line 13\u001b[39m\n\u001b[32m      1\u001b[39m \u001b[38;5;66;03m# 8. Obtener los bares que han adquirido todos los tipos de cerveza con envase de botella y\u001b[39;00m\n\u001b[32m      2\u001b[39m \u001b[38;5;66;03m# capacidad menor que 1 litro.\u001b[39;00m\n\u001b[32m      4\u001b[39m query = \u001b[33m'''\u001b[39m\n\u001b[32m      5\u001b[39m \u001b[33mSELECT DISTINCT bares.Nombre\u001b[39m\n\u001b[32m      6\u001b[39m \u001b[33mFROM reparto\u001b[39m\n\u001b[32m   (...)\u001b[39m\u001b[32m     11\u001b[39m \u001b[33mWHERE cervezas.Envase = \u001b[39m\u001b[33m\"\u001b[39m\u001b[33mBotella\u001b[39m\u001b[33m\"\u001b[39m\u001b[33m AND cervezas.Capacidad < 1\u001b[39m\n\u001b[32m     12\u001b[39m \u001b[33m'''\u001b[39m\n\u001b[32m---> \u001b[39m\u001b[32m13\u001b[39m \u001b[43msql_query\u001b[49m\u001b[43m(\u001b[49m\u001b[43mquery\u001b[49m\u001b[43m)\u001b[49m\n",
      "\u001b[36mCell\u001b[39m\u001b[36m \u001b[39m\u001b[32mIn[54]\u001b[39m\u001b[32m, line 5\u001b[39m, in \u001b[36msql_query\u001b[39m\u001b[34m(query)\u001b[39m\n\u001b[32m      2\u001b[39m \u001b[38;5;28;01mdef\u001b[39;00m\u001b[38;5;250m \u001b[39m\u001b[34msql_query\u001b[39m(query):\n\u001b[32m      3\u001b[39m \n\u001b[32m      4\u001b[39m     \u001b[38;5;66;03m# Ejecuta la query\u001b[39;00m\n\u001b[32m----> \u001b[39m\u001b[32m5\u001b[39m     \u001b[43mcrsr\u001b[49m\u001b[43m.\u001b[49m\u001b[43mexecute\u001b[49m\u001b[43m(\u001b[49m\u001b[43mquery\u001b[49m\u001b[43m)\u001b[49m\n\u001b[32m      7\u001b[39m     \u001b[38;5;66;03m# Almacena los datos de la query \u001b[39;00m\n\u001b[32m      8\u001b[39m     ans = crsr.fetchall()\n",
      "\u001b[31mOperationalError\u001b[39m: no such table: reparto"
     ]
    }
   ],
   "source": [
    "# 8. Obtener los bares que han adquirido todos los tipos de cerveza con envase de botella y\n",
    "# capacidad menor que 1 litro.\n",
    "\n",
    "query = '''\n",
    "SELECT DISTINCT bares.Nombre\n",
    "FROM reparto\n",
    "LEFT JOIN bares\n",
    "ON reparto.CodB = bares.CodB\n",
    "LEFT JOIN cervezas\n",
    "ON reparto.CodC = cervezas.CodC\n",
    "WHERE cervezas.Envase = \"Botella\" AND cervezas.Capacidad < 1\n",
    "'''\n",
    "sql_query(query)"
   ]
  },
  {
   "cell_type": "code",
   "execution_count": 76,
   "id": "3294d19e-75ae-4450-abdb-f5479a180944",
   "metadata": {},
   "outputs": [
    {
     "ename": "OperationalError",
     "evalue": "no such table: reparto",
     "output_type": "error",
     "traceback": [
      "\u001b[31m---------------------------------------------------------------------------\u001b[39m",
      "\u001b[31mOperationalError\u001b[39m                          Traceback (most recent call last)",
      "\u001b[36mCell\u001b[39m\u001b[36m \u001b[39m\u001b[32mIn[76]\u001b[39m\u001b[32m, line 11\u001b[39m\n\u001b[32m      1\u001b[39m \u001b[38;5;66;03m#9. Subir un 5% el sueldo del empleado que más días haya trabajado.\u001b[39;00m\n\u001b[32m      3\u001b[39m query = \u001b[33m'''\u001b[39m\n\u001b[32m      4\u001b[39m \u001b[33mSELECT COUNT( DISTINCT reparto.Fecha) AS \u001b[39m\u001b[33m'\u001b[39m\u001b[33mDias_trabajados\u001b[39m\u001b[33m'\u001b[39m\u001b[33m, empleados.CodE, empleados.Nombre\u001b[39m\n\u001b[32m      5\u001b[39m \u001b[33mFROM reparto\u001b[39m\n\u001b[32m   (...)\u001b[39m\u001b[32m      9\u001b[39m \u001b[33mORDER BY 1 DESC\u001b[39m\n\u001b[32m     10\u001b[39m \u001b[33m'''\u001b[39m\n\u001b[32m---> \u001b[39m\u001b[32m11\u001b[39m \u001b[43msql_query\u001b[49m\u001b[43m(\u001b[49m\u001b[43mquery\u001b[49m\u001b[43m)\u001b[49m\n",
      "\u001b[36mCell\u001b[39m\u001b[36m \u001b[39m\u001b[32mIn[54]\u001b[39m\u001b[32m, line 5\u001b[39m, in \u001b[36msql_query\u001b[39m\u001b[34m(query)\u001b[39m\n\u001b[32m      2\u001b[39m \u001b[38;5;28;01mdef\u001b[39;00m\u001b[38;5;250m \u001b[39m\u001b[34msql_query\u001b[39m(query):\n\u001b[32m      3\u001b[39m \n\u001b[32m      4\u001b[39m     \u001b[38;5;66;03m# Ejecuta la query\u001b[39;00m\n\u001b[32m----> \u001b[39m\u001b[32m5\u001b[39m     \u001b[43mcrsr\u001b[49m\u001b[43m.\u001b[49m\u001b[43mexecute\u001b[49m\u001b[43m(\u001b[49m\u001b[43mquery\u001b[49m\u001b[43m)\u001b[49m\n\u001b[32m      7\u001b[39m     \u001b[38;5;66;03m# Almacena los datos de la query \u001b[39;00m\n\u001b[32m      8\u001b[39m     ans = crsr.fetchall()\n",
      "\u001b[31mOperationalError\u001b[39m: no such table: reparto"
     ]
    }
   ],
   "source": [
    "#9. Subir un 5% el sueldo del empleado que más días haya trabajado.\n",
    "\n",
    "query = '''\n",
    "SELECT COUNT( DISTINCT reparto.Fecha) AS 'Dias_trabajados', empleados.CodE, empleados.Nombre\n",
    "FROM reparto\n",
    "LEFT JOIN empleados\n",
    "ON reparto.CodE = empleados.CodE\n",
    "GROUP BY empleados.CodE\n",
    "ORDER BY 1 DESC\n",
    "'''\n",
    "sql_query(query)"
   ]
  },
  {
   "cell_type": "code",
   "execution_count": 77,
   "id": "4a3c6ec0-1d01-4559-9587-cf9d9d7c75d1",
   "metadata": {},
   "outputs": [
    {
     "data": {
      "text/plain": [
       "0.96"
      ]
     },
     "execution_count": 77,
     "metadata": {},
     "output_type": "execute_result"
    }
   ],
   "source": [
    "1.20 * 0.8"
   ]
  },
  {
   "cell_type": "code",
   "execution_count": 78,
   "id": "13afa94c",
   "metadata": {},
   "outputs": [
    {
     "ename": "OperationalError",
     "evalue": "no such table: reparto",
     "output_type": "error",
     "traceback": [
      "\u001b[31m---------------------------------------------------------------------------\u001b[39m",
      "\u001b[31mOperationalError\u001b[39m                          Traceback (most recent call last)",
      "\u001b[36mCell\u001b[39m\u001b[36m \u001b[39m\u001b[32mIn[78]\u001b[39m\u001b[32m, line 11\u001b[39m\n\u001b[32m      1\u001b[39m query = \u001b[33m'''\u001b[39m\n\u001b[32m      2\u001b[39m \u001b[33mSELECT t.Sueldo * 1.05\u001b[39m\n\u001b[32m      3\u001b[39m \u001b[33mFROM ( SELECT COUNT( DISTINCT reparto.Fecha) AS \u001b[39m\u001b[33m'\u001b[39m\u001b[33mDias_trabajados\u001b[39m\u001b[33m'\u001b[39m\u001b[33m, empleados.CodE, empleados.Nombre, empleados.Sueldo\u001b[39m\n\u001b[32m   (...)\u001b[39m\u001b[32m      9\u001b[39m \u001b[33mLIMIT 1) t\u001b[39m\n\u001b[32m     10\u001b[39m \u001b[33m'''\u001b[39m\n\u001b[32m---> \u001b[39m\u001b[32m11\u001b[39m \u001b[43msql_query\u001b[49m\u001b[43m(\u001b[49m\u001b[43mquery\u001b[49m\u001b[43m)\u001b[49m\n",
      "\u001b[36mCell\u001b[39m\u001b[36m \u001b[39m\u001b[32mIn[54]\u001b[39m\u001b[32m, line 5\u001b[39m, in \u001b[36msql_query\u001b[39m\u001b[34m(query)\u001b[39m\n\u001b[32m      2\u001b[39m \u001b[38;5;28;01mdef\u001b[39;00m\u001b[38;5;250m \u001b[39m\u001b[34msql_query\u001b[39m(query):\n\u001b[32m      3\u001b[39m \n\u001b[32m      4\u001b[39m     \u001b[38;5;66;03m# Ejecuta la query\u001b[39;00m\n\u001b[32m----> \u001b[39m\u001b[32m5\u001b[39m     \u001b[43mcrsr\u001b[49m\u001b[43m.\u001b[49m\u001b[43mexecute\u001b[49m\u001b[43m(\u001b[49m\u001b[43mquery\u001b[49m\u001b[43m)\u001b[49m\n\u001b[32m      7\u001b[39m     \u001b[38;5;66;03m# Almacena los datos de la query \u001b[39;00m\n\u001b[32m      8\u001b[39m     ans = crsr.fetchall()\n",
      "\u001b[31mOperationalError\u001b[39m: no such table: reparto"
     ]
    }
   ],
   "source": [
    "query = '''\n",
    "SELECT t.Sueldo * 1.05\n",
    "FROM ( SELECT COUNT( DISTINCT reparto.Fecha) AS 'Dias_trabajados', empleados.CodE, empleados.Nombre, empleados.Sueldo\n",
    "FROM reparto\n",
    "LEFT JOIN empleados\n",
    "ON reparto.CodE = empleados.CodE\n",
    "GROUP BY empleados.CodE\n",
    "ORDER BY 1 DESC\n",
    "LIMIT 1) t\n",
    "'''\n",
    "sql_query(query)"
   ]
  },
  {
   "cell_type": "code",
   "execution_count": 79,
   "id": "0d264c9a",
   "metadata": {},
   "outputs": [
    {
     "ename": "OperationalError",
     "evalue": "no such table: reparto",
     "output_type": "error",
     "traceback": [
      "\u001b[31m---------------------------------------------------------------------------\u001b[39m",
      "\u001b[31mOperationalError\u001b[39m                          Traceback (most recent call last)",
      "\u001b[36mCell\u001b[39m\u001b[36m \u001b[39m\u001b[32mIn[79]\u001b[39m\u001b[32m, line 12\u001b[39m\n\u001b[32m      1\u001b[39m query = \u001b[33m'''\u001b[39m\n\u001b[32m      2\u001b[39m \u001b[33mSELECT t.CodE FROM\u001b[39m\n\u001b[32m      3\u001b[39m \u001b[33m(\u001b[39m\n\u001b[32m   (...)\u001b[39m\u001b[32m     10\u001b[39m \u001b[33mLIMIT 1) t     \u001b[39m\n\u001b[32m     11\u001b[39m \u001b[33m'''\u001b[39m\n\u001b[32m---> \u001b[39m\u001b[32m12\u001b[39m \u001b[43msql_query\u001b[49m\u001b[43m(\u001b[49m\u001b[43mquery\u001b[49m\u001b[43m)\u001b[49m\n",
      "\u001b[36mCell\u001b[39m\u001b[36m \u001b[39m\u001b[32mIn[54]\u001b[39m\u001b[32m, line 5\u001b[39m, in \u001b[36msql_query\u001b[39m\u001b[34m(query)\u001b[39m\n\u001b[32m      2\u001b[39m \u001b[38;5;28;01mdef\u001b[39;00m\u001b[38;5;250m \u001b[39m\u001b[34msql_query\u001b[39m(query):\n\u001b[32m      3\u001b[39m \n\u001b[32m      4\u001b[39m     \u001b[38;5;66;03m# Ejecuta la query\u001b[39;00m\n\u001b[32m----> \u001b[39m\u001b[32m5\u001b[39m     \u001b[43mcrsr\u001b[49m\u001b[43m.\u001b[49m\u001b[43mexecute\u001b[49m\u001b[43m(\u001b[49m\u001b[43mquery\u001b[49m\u001b[43m)\u001b[49m\n\u001b[32m      7\u001b[39m     \u001b[38;5;66;03m# Almacena los datos de la query \u001b[39;00m\n\u001b[32m      8\u001b[39m     ans = crsr.fetchall()\n",
      "\u001b[31mOperationalError\u001b[39m: no such table: reparto"
     ]
    }
   ],
   "source": [
    "query = '''\n",
    "SELECT t.CodE FROM\n",
    "(\n",
    "SELECT COUNT(DISTINCT reparto.Fecha) AS 'Dias_trabajados', empleados.CodE,  empleados.Sueldo\n",
    "FROM reparto\n",
    "LEFT JOIN empleados\n",
    "ON reparto.CodE = empleados.CodE\n",
    "GROUP BY empleados.CodE\n",
    "ORDER BY 1 DESC\n",
    "LIMIT 1) t     \n",
    "'''\n",
    "sql_query(query)"
   ]
  },
  {
   "cell_type": "code",
   "execution_count": 80,
   "id": "6e3d6474",
   "metadata": {},
   "outputs": [
    {
     "ename": "OperationalError",
     "evalue": "no such table: reparto",
     "output_type": "error",
     "traceback": [
      "\u001b[31m---------------------------------------------------------------------------\u001b[39m",
      "\u001b[31mOperationalError\u001b[39m                          Traceback (most recent call last)",
      "\u001b[36mCell\u001b[39m\u001b[36m \u001b[39m\u001b[32mIn[80]\u001b[39m\u001b[32m, line 12\u001b[39m\n\u001b[32m      1\u001b[39m query = \u001b[33m'''\u001b[39m\n\u001b[32m      2\u001b[39m \u001b[33mSELECT t.CodE FROM\u001b[39m\n\u001b[32m      3\u001b[39m \u001b[33m(\u001b[39m\n\u001b[32m   (...)\u001b[39m\u001b[32m     10\u001b[39m \u001b[33mLIMIT 1) t     \u001b[39m\n\u001b[32m     11\u001b[39m \u001b[33m'''\u001b[39m\n\u001b[32m---> \u001b[39m\u001b[32m12\u001b[39m \u001b[43msql_query\u001b[49m\u001b[43m(\u001b[49m\u001b[43mquery\u001b[49m\u001b[43m)\u001b[49m\n",
      "\u001b[36mCell\u001b[39m\u001b[36m \u001b[39m\u001b[32mIn[54]\u001b[39m\u001b[32m, line 5\u001b[39m, in \u001b[36msql_query\u001b[39m\u001b[34m(query)\u001b[39m\n\u001b[32m      2\u001b[39m \u001b[38;5;28;01mdef\u001b[39;00m\u001b[38;5;250m \u001b[39m\u001b[34msql_query\u001b[39m(query):\n\u001b[32m      3\u001b[39m \n\u001b[32m      4\u001b[39m     \u001b[38;5;66;03m# Ejecuta la query\u001b[39;00m\n\u001b[32m----> \u001b[39m\u001b[32m5\u001b[39m     \u001b[43mcrsr\u001b[49m\u001b[43m.\u001b[49m\u001b[43mexecute\u001b[49m\u001b[43m(\u001b[49m\u001b[43mquery\u001b[49m\u001b[43m)\u001b[49m\n\u001b[32m      7\u001b[39m     \u001b[38;5;66;03m# Almacena los datos de la query \u001b[39;00m\n\u001b[32m      8\u001b[39m     ans = crsr.fetchall()\n",
      "\u001b[31mOperationalError\u001b[39m: no such table: reparto"
     ]
    }
   ],
   "source": [
    "query = '''\n",
    "SELECT t.CodE FROM\n",
    "(\n",
    "SELECT COUNT(DISTINCT reparto.Fecha) AS 'Dias_trabajados', empleados.CodE,  empleados.Sueldo\n",
    "FROM reparto\n",
    "LEFT JOIN empleados\n",
    "ON reparto.CodE = empleados.CodE\n",
    "GROUP BY empleados.CodE\n",
    "ORDER BY 1 DESC\n",
    "LIMIT 1) t     \n",
    "'''\n",
    "sql_query(query)"
   ]
  },
  {
   "cell_type": "code",
   "execution_count": 81,
   "id": "313f4626",
   "metadata": {},
   "outputs": [
    {
     "data": {
      "text/html": [
       "<div>\n",
       "<style scoped>\n",
       "    .dataframe tbody tr th:only-of-type {\n",
       "        vertical-align: middle;\n",
       "    }\n",
       "\n",
       "    .dataframe tbody tr th {\n",
       "        vertical-align: top;\n",
       "    }\n",
       "\n",
       "    .dataframe thead th {\n",
       "        text-align: right;\n",
       "    }\n",
       "</style>\n",
       "<table border=\"1\" class=\"dataframe\">\n",
       "  <thead>\n",
       "    <tr style=\"text-align: right;\">\n",
       "      <th></th>\n",
       "      <th>CodE</th>\n",
       "      <th>Nombre</th>\n",
       "      <th>Sueldo</th>\n",
       "    </tr>\n",
       "  </thead>\n",
       "  <tbody>\n",
       "  </tbody>\n",
       "</table>\n",
       "</div>"
      ],
      "text/plain": [
       "Empty DataFrame\n",
       "Columns: [CodE, Nombre, Sueldo]\n",
       "Index: []"
      ]
     },
     "execution_count": 81,
     "metadata": {},
     "output_type": "execute_result"
    }
   ],
   "source": [
    "query = '''\n",
    "SELECT *\n",
    "FROM empleados\n",
    "WHERE nombre = \"Rosa Perez\"\n",
    "'''\n",
    "sql_query(query)"
   ]
  },
  {
   "cell_type": "code",
   "execution_count": 86,
   "id": "366b2ff4-a41a-4381-bef6-f574fdeb6c79",
   "metadata": {},
   "outputs": [],
   "source": [
    "connection.commit()\n",
    "connection.close()"
   ]
  }
 ],
 "metadata": {
  "kernelspec": {
   "display_name": "Python 3",
   "language": "python",
   "name": "python3"
  },
  "language_info": {
   "codemirror_mode": {
    "name": "ipython",
    "version": 3
   },
   "file_extension": ".py",
   "mimetype": "text/x-python",
   "name": "python",
   "nbconvert_exporter": "python",
   "pygments_lexer": "ipython3",
   "version": "3.13.5"
  }
 },
 "nbformat": 4,
 "nbformat_minor": 5
}
